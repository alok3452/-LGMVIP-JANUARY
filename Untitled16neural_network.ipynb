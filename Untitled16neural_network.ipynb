{
  "nbformat": 4,
  "nbformat_minor": 0,
  "metadata": {
    "colab": {
      "name": "Untitled16neural.network.ipynb",
      "provenance": [],
      "authorship_tag": "ABX9TyMtNaeYxUKH+uOi7PT7ObkE",
      "include_colab_link": true
    },
    "kernelspec": {
      "name": "python3",
      "display_name": "Python 3"
    },
    "language_info": {
      "name": "python"
    }
  },
  "cells": [
    {
      "cell_type": "markdown",
      "metadata": {
        "id": "view-in-github",
        "colab_type": "text"
      },
      "source": [
        "<a href=\"https://colab.research.google.com/github/alok3452/-LGMVIP-JANUARY/blob/main/Untitled16neural_network.ipynb\" target=\"_parent\"><img src=\"https://colab.research.google.com/assets/colab-badge.svg\" alt=\"Open In Colab\"/></a>"
      ]
    },
    {
      "cell_type": "markdown",
      "source": [
        "LetsGrowMoreVIP - Data Science Intern - JANUARY 2022"
      ],
      "metadata": {
        "id": "qIrntHZI-AHX"
      }
    },
    {
      "cell_type": "markdown",
      "source": [
        "Advanced Level Task 1 - Develop A Neural Network That Can Read Handwriting"
      ],
      "metadata": {
        "id": "wRl9QkYRuiQD"
      }
    },
    {
      "cell_type": "markdown",
      "source": [
        "Begin your neural network machine learning project with the MNIST Handwritten Digit Classification Challenge and using Tensorflow and CNN. It has a very user-friendly interface that’s ideal for beginners."
      ],
      "metadata": {
        "id": "nxfE6n0fuksc"
      }
    },
    {
      "cell_type": "markdown",
      "source": [
        " what is neural network ?       \n",
        " \n",
        " Neural networks, also known as artificial neural networks (ANNs) or simulated neural networks (SNNs), are a subset of machine learning and are at the heart of deep learning algorithms. Their name and structure are inspired by the human brain, mimicking the way that biological neurons signal to one another.\n",
        "\n",
        "Artificial neural networks (ANNs) are comprised of a node layers, containing an input layer, one or more hidden layers, and an output layer. Each node, or artificial neuron, connects to another and has an associated weight and threshold. If the output of any individual node is above the specified threshold value, that node is activated, sending data to the next layer of the network. Otherwise, no data is passed along to the next layer of the network."
      ],
      "metadata": {
        "id": "eppRbEGOFCWa"
      }
    },
    {
      "cell_type": "markdown",
      "source": [
        "so by using neural network we are gointng to handwritting"
      ],
      "metadata": {
        "id": "0WXDtQtPFdOK"
      }
    },
    {
      "cell_type": "code",
      "source": [
        "#Importing the Libraries\n",
        "\n",
        "import tensorflow as tf\n",
        "from tensorflow.keras import datasets, models, layers\n",
        "import numpy as np\n",
        "import matplotlib.pyplot as plt"
      ],
      "metadata": {
        "id": "pkk-x9p13m77"
      },
      "execution_count": null,
      "outputs": []
    },
    {
      "cell_type": "code",
      "source": [
        "#Downloading MNIST Dataset\n",
        "\n",
        "(train_img, train_labels),(test_img, test_labels) = datasets.mnist.load_data()"
      ],
      "metadata": {
        "id": "96ERvMPw3q4L"
      },
      "execution_count": null,
      "outputs": []
    },
    {
      "cell_type": "markdown",
      "source": [
        "Normalization of Images"
      ],
      "metadata": {
        "id": "Z6WRaXTKu9sd"
      }
    },
    {
      "cell_type": "code",
      "source": [
        "train_img, test_img = train_img/255.0 , test_img/255.0"
      ],
      "metadata": {
        "id": "rTOswc2G3xSf"
      },
      "execution_count": null,
      "outputs": []
    },
    {
      "cell_type": "code",
      "source": [
        "len(train_img)"
      ],
      "metadata": {
        "colab": {
          "base_uri": "https://localhost:8080/"
        },
        "id": "gnSUktQT309-",
        "outputId": "2cc470b3-1cb5-47fd-c30e-04969c30a716"
      },
      "execution_count": null,
      "outputs": [
        {
          "output_type": "execute_result",
          "data": {
            "text/plain": [
              "60000"
            ]
          },
          "metadata": {},
          "execution_count": 8
        }
      ]
    },
    {
      "cell_type": "code",
      "source": [
        "len(test_img)"
      ],
      "metadata": {
        "colab": {
          "base_uri": "https://localhost:8080/"
        },
        "id": "HKiYSVsk34yW",
        "outputId": "8c218754-8e55-46fa-e90e-09e649f81d09"
      },
      "execution_count": null,
      "outputs": [
        {
          "output_type": "execute_result",
          "data": {
            "text/plain": [
              "10000"
            ]
          },
          "metadata": {},
          "execution_count": 9
        }
      ]
    },
    {
      "cell_type": "markdown",
      "source": [
        "Visualization of Images"
      ],
      "metadata": {
        "id": "KGxbJT-wvDnk"
      }
    },
    {
      "cell_type": "code",
      "source": [
        "plt.imshow(train_img[0],cmap=plt.cm.gray_r, interpolation='nearest')"
      ],
      "metadata": {
        "colab": {
          "base_uri": "https://localhost:8080/",
          "height": 282
        },
        "id": "SKIV0j0M39LW",
        "outputId": "336b7b67-9d0c-4a9e-c725-08be67c978cc"
      },
      "execution_count": null,
      "outputs": [
        {
          "output_type": "execute_result",
          "data": {
            "text/plain": [
              "<matplotlib.image.AxesImage at 0x7f5c1fe723d0>"
            ]
          },
          "metadata": {},
          "execution_count": 10
        },
        {
          "output_type": "display_data",
          "data": {
            "image/png": "[encoded data removed]",
            "text/plain": [
              "<Figure size 432x288 with 1 Axes>"
            ]
          },
          "metadata": {
            "needs_background": "light"
          }
        }
      ]
    },
    {
      "cell_type": "code",
      "source": [
        "plt.figure(figsize=(10,10))\n",
        "for i in range(25):\n",
        "    plt.subplot(5, 5, i+1)\n",
        "    plt.xticks([])\n",
        "    plt.yticks([])\n",
        "    plt.grid(False)\n",
        "    plt.imshow(train_img[i], cmap=plt.cm.binary)\n",
        "plt.show()"
      ],
      "metadata": {
        "colab": {
          "base_uri": "https://localhost:8080/",
          "height": 578
        },
        "id": "G2RMMl0G4BdX",
        "outputId": "099b0029-dff9-4471-915b-b94c2307190d"
      },
      "execution_count": null,
      "outputs": [
        {
          "output_type": "display_data",
          "data": {
            "image/png": "[encoded data removed]",
            "text/plain": [
              "<Figure size 720x720 with 25 Axes>"
            ]
          },
          "metadata": {}
        }
      ]
    },
    {
      "cell_type": "markdown",
      "source": [
        "Creating and Training the Model"
      ],
      "metadata": {
        "id": "rsaxE3-zvOkw"
      }
    },
    {
      "cell_type": "code",
      "source": [
        "model = tf.keras.models.Sequential([\n",
        "    tf.keras.layers.Flatten(input_shape=(28,28)),\n",
        "    tf.keras.layers.Dense(128, activation='relu'),\n",
        "    tf.keras.layers.Dense(10)\n",
        "])"
      ],
      "metadata": {
        "id": "MF0Wm0Bs4EOe"
      },
      "execution_count": null,
      "outputs": []
    },
    {
      "cell_type": "code",
      "source": [
        "model.compile(\n",
        "    optimizer = tf.keras.optimizers.Adam(0.001),\n",
        "    loss = tf.keras.losses.SparseCategoricalCrossentropy(from_logits=True),\n",
        "    metrics = [tf.keras.metrics.SparseCategoricalAccuracy()]\n",
        ")"
      ],
      "metadata": {
        "id": "CQ4FTfl04MRd"
      },
      "execution_count": null,
      "outputs": []
    },
    {
      "cell_type": "code",
      "source": [
        "model.fit(\n",
        "    train_img, train_labels,\n",
        "    epochs = 10,\n",
        "    validation_data = (test_img, test_labels)\n",
        ")"
      ],
      "metadata": {
        "colab": {
          "base_uri": "https://localhost:8080/"
        },
        "id": "qCR7GsZ14QPz",
        "outputId": "04b6650e-3ca8-49a9-b930-7c830b74dbad"
      },
      "execution_count": null,
      "outputs": [
        {
          "output_type": "stream",
          "name": "stdout",
          "text": [
            "Epoch 1/10\n",
            "1875/1875 [==============================] - 6s 3ms/step - loss: 0.2591 - sparse_categorical_accuracy: 0.9263 - val_loss: 0.1375 - val_sparse_categorical_accuracy: 0.9588\n",
            "Epoch 2/10\n",
            "1875/1875 [==============================] - 5s 3ms/step - loss: 0.1136 - sparse_categorical_accuracy: 0.9664 - val_loss: 0.1139 - val_sparse_categorical_accuracy: 0.9668\n",
            "Epoch 3/10\n",
            "1875/1875 [==============================] - 5s 2ms/step - loss: 0.0785 - sparse_categorical_accuracy: 0.9763 - val_loss: 0.0900 - val_sparse_categorical_accuracy: 0.9734\n",
            "Epoch 4/10\n",
            "1875/1875 [==============================] - 5s 3ms/step - loss: 0.0584 - sparse_categorical_accuracy: 0.9822 - val_loss: 0.0778 - val_sparse_categorical_accuracy: 0.9777\n",
            "Epoch 5/10\n",
            "1875/1875 [==============================] - 5s 3ms/step - loss: 0.0450 - sparse_categorical_accuracy: 0.9864 - val_loss: 0.0824 - val_sparse_categorical_accuracy: 0.9736\n",
            "Epoch 6/10\n",
            "1875/1875 [==============================] - 5s 3ms/step - loss: 0.0364 - sparse_categorical_accuracy: 0.9888 - val_loss: 0.0866 - val_sparse_categorical_accuracy: 0.9738\n",
            "Epoch 7/10\n",
            "1875/1875 [==============================] - 5s 2ms/step - loss: 0.0281 - sparse_categorical_accuracy: 0.9915 - val_loss: 0.0750 - val_sparse_categorical_accuracy: 0.9787\n",
            "Epoch 8/10\n",
            "1875/1875 [==============================] - 5s 2ms/step - loss: 0.0233 - sparse_categorical_accuracy: 0.9927 - val_loss: 0.0714 - val_sparse_categorical_accuracy: 0.9793\n",
            "Epoch 9/10\n",
            "1875/1875 [==============================] - 5s 3ms/step - loss: 0.0201 - sparse_categorical_accuracy: 0.9937 - val_loss: 0.0902 - val_sparse_categorical_accuracy: 0.9760\n",
            "Epoch 10/10\n",
            "1875/1875 [==============================] - 5s 3ms/step - loss: 0.0159 - sparse_categorical_accuracy: 0.9952 - val_loss: 0.0851 - val_sparse_categorical_accuracy: 0.9769\n"
          ]
        },
        {
          "output_type": "execute_result",
          "data": {
            "text/plain": [
              "<keras.callbacks.History at 0x7f5c1b1be410>"
            ]
          },
          "metadata": {},
          "execution_count": 14
        }
      ]
    },
    {
      "cell_type": "markdown",
      "source": [
        "Model Summary"
      ],
      "metadata": {
        "id": "lgQcQ-flvYnT"
      }
    },
    {
      "cell_type": "code",
      "source": [
        "model.summary()"
      ],
      "metadata": {
        "colab": {
          "base_uri": "https://localhost:8080/"
        },
        "id": "qRh64kQF4nBL",
        "outputId": "12787333-e348-496f-8a2d-78ab26fd9ebc"
      },
      "execution_count": null,
      "outputs": [
        {
          "output_type": "stream",
          "name": "stdout",
          "text": [
            "Model: \"sequential\"\n",
            "_________________________________________________________________\n",
            " Layer (type)                Output Shape              Param #   \n",
            "=================================================================\n",
            " flatten (Flatten)           (None, 784)               0         \n",
            "                                                                 \n",
            " dense (Dense)               (None, 128)               100480    \n",
            "                                                                 \n",
            " dense_1 (Dense)             (None, 10)                1290      \n",
            "                                                                 \n",
            "=================================================================\n",
            "Total params: 101,770\n",
            "Trainable params: 101,770\n",
            "Non-trainable params: 0\n",
            "_________________________________________________________________\n"
          ]
        }
      ]
    },
    {
      "cell_type": "markdown",
      "source": [
        "Adding Flatten Layer"
      ],
      "metadata": {
        "id": "06oWFHCXxwMS"
      }
    },
    {
      "cell_type": "code",
      "source": [
        "model.add(layers.Flatten())"
      ],
      "metadata": {
        "id": "Z_s1g3o_4r2L"
      },
      "execution_count": null,
      "outputs": []
    },
    {
      "cell_type": "markdown",
      "source": [
        "Adding Dense Layer :\n",
        "\n",
        "Dense Layer is used to classify image based on output from convolutional layers."
      ],
      "metadata": {
        "id": "0ndH9FuVx1yp"
      }
    },
    {
      "cell_type": "code",
      "source": [
        "model.add(layers.Dense(64, activation='relu'))\n",
        "model.add(layers.Dense(10))"
      ],
      "metadata": {
        "id": "88L1dYXY4u6S"
      },
      "execution_count": null,
      "outputs": []
    },
    {
      "cell_type": "markdown",
      "source": [
        "Compilation :\n",
        "Compile defines the loss function, the optimizer and the metrics."
      ],
      "metadata": {
        "id": "y1Gm2tBTyPqb"
      }
    },
    {
      "cell_type": "code",
      "source": [
        "model.compile(optimizer='adam', loss=tf.keras.losses.SparseCategoricalCrossentropy(from_logits=True),metrics = ['accuracy'])"
      ],
      "metadata": {
        "id": "doOu8_O34y_d"
      },
      "execution_count": null,
      "outputs": []
    },
    {
      "cell_type": "markdown",
      "source": [
        "Train the Model :     \n",
        "\n",
        "model.fit() = A model that is well-fitted produces more accurate outcomes."
      ],
      "metadata": {
        "id": "wZnHXgacyhA7"
      }
    },
    {
      "cell_type": "code",
      "source": [
        "model.fit(train_img, train_labels, epochs=12, validation_data=(test_img, test_labels))"
      ],
      "metadata": {
        "colab": {
          "base_uri": "https://localhost:8080/"
        },
        "id": "L3faebSX42fr",
        "outputId": "14d2ab48-6b3a-47a6-8a2a-9877db1c5c62"
      },
      "execution_count": null,
      "outputs": [
        {
          "output_type": "stream",
          "name": "stdout",
          "text": [
            "Epoch 1/12\n",
            "1875/1875 [==============================] - 8s 4ms/step - loss: 0.1074 - accuracy: 0.9733 - val_loss: 0.0763 - val_accuracy: 0.9789\n",
            "Epoch 2/12\n",
            "1875/1875 [==============================] - 5s 3ms/step - loss: 0.0211 - accuracy: 0.9931 - val_loss: 0.1047 - val_accuracy: 0.9732\n",
            "Epoch 3/12\n",
            "1875/1875 [==============================] - 5s 3ms/step - loss: 0.0197 - accuracy: 0.9929 - val_loss: 0.0981 - val_accuracy: 0.9772\n",
            "Epoch 4/12\n",
            "1875/1875 [==============================] - 5s 3ms/step - loss: 0.0159 - accuracy: 0.9947 - val_loss: 0.1102 - val_accuracy: 0.9749\n",
            "Epoch 5/12\n",
            "1875/1875 [==============================] - 5s 3ms/step - loss: 0.0163 - accuracy: 0.9943 - val_loss: 0.1066 - val_accuracy: 0.9783\n",
            "Epoch 6/12\n",
            "1875/1875 [==============================] - 5s 3ms/step - loss: 0.0146 - accuracy: 0.9953 - val_loss: 0.1441 - val_accuracy: 0.9737\n",
            "Epoch 7/12\n",
            "1875/1875 [==============================] - 5s 3ms/step - loss: 0.0131 - accuracy: 0.9955 - val_loss: 0.1401 - val_accuracy: 0.9713\n",
            "Epoch 8/12\n",
            "1875/1875 [==============================] - 5s 3ms/step - loss: 0.0145 - accuracy: 0.9948 - val_loss: 0.1199 - val_accuracy: 0.9766\n",
            "Epoch 9/12\n",
            "1875/1875 [==============================] - 5s 3ms/step - loss: 0.0090 - accuracy: 0.9969 - val_loss: 0.1230 - val_accuracy: 0.9767\n",
            "Epoch 10/12\n",
            "1875/1875 [==============================] - 5s 3ms/step - loss: 0.0131 - accuracy: 0.9958 - val_loss: 0.1237 - val_accuracy: 0.9769\n",
            "Epoch 11/12\n",
            "1875/1875 [==============================] - 5s 3ms/step - loss: 0.0123 - accuracy: 0.9962 - val_loss: 0.1370 - val_accuracy: 0.9764\n",
            "Epoch 12/12\n",
            "1875/1875 [==============================] - 5s 3ms/step - loss: 0.0109 - accuracy: 0.9964 - val_loss: 0.1698 - val_accuracy: 0.9705\n"
          ]
        },
        {
          "output_type": "execute_result",
          "data": {
            "text/plain": [
              "<keras.callbacks.History at 0x7f5c1f5b7d90>"
            ]
          },
          "metadata": {},
          "execution_count": 19
        }
      ]
    },
    {
      "cell_type": "markdown",
      "source": [
        "Evaluatation of the Model"
      ],
      "metadata": {
        "id": "qpNX8kt6yvV3"
      }
    },
    {
      "cell_type": "code",
      "source": [
        "model.summary()"
      ],
      "metadata": {
        "colab": {
          "base_uri": "https://localhost:8080/"
        },
        "id": "2qm-W1Uo5H-L",
        "outputId": "a36f0045-645a-4ec9-fd48-d8dfb1bef763"
      },
      "execution_count": null,
      "outputs": [
        {
          "output_type": "stream",
          "name": "stdout",
          "text": [
            "Model: \"sequential\"\n",
            "_________________________________________________________________\n",
            " Layer (type)                Output Shape              Param #   \n",
            "=================================================================\n",
            " flatten (Flatten)           (None, 784)               0         \n",
            "                                                                 \n",
            " dense (Dense)               (None, 128)               100480    \n",
            "                                                                 \n",
            " dense_1 (Dense)             (None, 10)                1290      \n",
            "                                                                 \n",
            " flatten_1 (Flatten)         (None, 10)                0         \n",
            "                                                                 \n",
            " dense_2 (Dense)             (None, 64)                704       \n",
            "                                                                 \n",
            " dense_3 (Dense)             (None, 10)                650       \n",
            "                                                                 \n",
            "=================================================================\n",
            "Total params: 103,124\n",
            "Trainable params: 103,124\n",
            "Non-trainable params: 0\n",
            "_________________________________________________________________\n"
          ]
        }
      ]
    },
    {
      "cell_type": "code",
      "source": [
        "print(model.evaluate(test_img,test_labels))"
      ],
      "metadata": {
        "colab": {
          "base_uri": "https://localhost:8080/"
        },
        "id": "I6bkC6_J5MK7",
        "outputId": "73bd3792-1dbf-45a3-abd6-c72c9bff7edd"
      },
      "execution_count": null,
      "outputs": [
        {
          "output_type": "stream",
          "name": "stdout",
          "text": [
            "313/313 [==============================] - 0s 1ms/step - loss: 0.1698 - accuracy: 0.9705\n",
            "[0.16978785395622253, 0.9704999923706055]\n"
          ]
        }
      ]
    },
    {
      "cell_type": "code",
      "source": [
        "y_pred=prediction=model.predict(test_img)\n",
        "y_pred"
      ],
      "metadata": {
        "colab": {
          "base_uri": "https://localhost:8080/"
        },
        "id": "f5O8Vgf65P7L",
        "outputId": "4c89d8db-2398-47ff-8644-208b10bdb051"
      },
      "execution_count": null,
      "outputs": [
        {
          "output_type": "execute_result",
          "data": {
            "text/plain": [
              "array([[-1.1872537e+01,  1.5904587e-02, -3.8244405e-01, ...,\n",
              "         2.4561098e+01, -6.2468185e+00,  6.4890161e-02],\n",
              "       [-9.3384829e+00,  4.5486546e+00,  2.7939995e+01, ...,\n",
              "        -2.2152376e+01,  2.2312987e+00, -1.2221055e+01],\n",
              "       [-5.4599171e+00,  1.6158836e+01, -4.4468617e+00, ...,\n",
              "        -8.3980566e-01,  2.8230140e+00, -7.9973960e+00],\n",
              "       ...,\n",
              "       [-2.0188768e+01, -1.3258464e+01, -2.7608221e+01, ...,\n",
              "        -7.0493417e+00, -1.1133088e+01,  7.9306930e-02],\n",
              "       [-8.3165922e+00, -2.2288546e+01, -2.0329185e+01, ...,\n",
              "        -8.7000637e+00,  2.8380885e+00, -1.0890359e+01],\n",
              "       [-6.5195165e+00, -1.7320925e+01, -1.7847548e+01, ...,\n",
              "        -3.5970318e+01, -7.7926273e+00, -1.7578754e+01]], dtype=float32)"
            ]
          },
          "metadata": {},
          "execution_count": 22
        }
      ]
    },
    {
      "cell_type": "code",
      "source": [
        "plt.imshow(test_img[1])"
      ],
      "metadata": {
        "colab": {
          "base_uri": "https://localhost:8080/",
          "height": 282
        },
        "id": "VzqLaH6v5WBU",
        "outputId": "b90595e5-c4db-4f81-ffba-168d2facc575"
      },
      "execution_count": null,
      "outputs": [
        {
          "output_type": "execute_result",
          "data": {
            "text/plain": [
              "<matplotlib.image.AxesImage at 0x7f5c1f634050>"
            ]
          },
          "metadata": {},
          "execution_count": 23
        },
        {
          "output_type": "display_data",
          "data": {
            "image/png": "[encoded data removed]",
            "text/plain": [
              "<Figure size 432x288 with 1 Axes>"
            ]
          },
          "metadata": {
            "needs_background": "light"
          }
        }
      ]
    },
    {
      "cell_type": "code",
      "source": [
        "prediction=model.predict(test_img)\n",
        "print(np.argmax(prediction[1]))"
      ],
      "metadata": {
        "colab": {
          "base_uri": "https://localhost:8080/"
        },
        "id": "1acSDX9S5aXy",
        "outputId": "75fa287a-5e17-4dd5-d696-bfc6165caf18"
      },
      "execution_count": null,
      "outputs": [
        {
          "output_type": "stream",
          "name": "stdout",
          "text": [
            "2\n"
          ]
        }
      ]
    },
    {
      "cell_type": "code",
      "source": [
        "plt.imshow(test_img[2])"
      ],
      "metadata": {
        "colab": {
          "base_uri": "https://localhost:8080/",
          "height": 282
        },
        "id": "KBhUqblI5drU",
        "outputId": "4cd36212-914b-4cd7-b3a7-e81ed283bfa8"
      },
      "execution_count": null,
      "outputs": [
        {
          "output_type": "execute_result",
          "data": {
            "text/plain": [
              "<matplotlib.image.AxesImage at 0x7f5c1f4de790>"
            ]
          },
          "metadata": {},
          "execution_count": 25
        },
        {
          "output_type": "display_data",
          "data": {
            "image/png": "[encoded data removed]",
            "text/plain": [
              "<Figure size 432x288 with 1 Axes>"
            ]
          },
          "metadata": {
            "needs_background": "light"
          }
        }
      ]
    },
    {
      "cell_type": "code",
      "source": [
        "prediction=model.predict(test_img)\n",
        "print(np.argmax(prediction[2]))"
      ],
      "metadata": {
        "colab": {
          "base_uri": "https://localhost:8080/"
        },
        "id": "a0Faro-C5hP7",
        "outputId": "4ab3ad2a-d912-4095-a705-64bd0dc02aa4"
      },
      "execution_count": null,
      "outputs": [
        {
          "output_type": "stream",
          "name": "stdout",
          "text": [
            "1\n"
          ]
        }
      ]
    },
    {
      "cell_type": "code",
      "source": [
        "plt.imshow(test_img[7])"
      ],
      "metadata": {
        "colab": {
          "base_uri": "https://localhost:8080/",
          "height": 282
        },
        "id": "rxmK4bv85mDq",
        "outputId": "f02a6cde-ec5c-46a1-f50b-21ae715edc6d"
      },
      "execution_count": null,
      "outputs": [
        {
          "output_type": "execute_result",
          "data": {
            "text/plain": [
              "<matplotlib.image.AxesImage at 0x7f5c1f8d7dd0>"
            ]
          },
          "metadata": {},
          "execution_count": 27
        },
        {
          "output_type": "display_data",
          "data": {
            "image/png": "[encoded data removed]",
            "text/plain": [
              "<Figure size 432x288 with 1 Axes>"
            ]
          },
          "metadata": {
            "needs_background": "light"
          }
        }
      ]
    },
    {
      "cell_type": "code",
      "source": [
        "prediction=model.predict(test_img)\n",
        "print(np.argmax(prediction[7]))"
      ],
      "metadata": {
        "colab": {
          "base_uri": "https://localhost:8080/"
        },
        "id": "XkrahKCC5qB5",
        "outputId": "59eb5b35-dcbe-428a-ec09-2eea5fc36606"
      },
      "execution_count": null,
      "outputs": [
        {
          "output_type": "stream",
          "name": "stdout",
          "text": [
            "9\n"
          ]
        }
      ]
    },
    {
      "cell_type": "markdown",
      "source": [
        "CONCLUSIONS"
      ],
      "metadata": {
        "id": "f4KmlIWXKXf5"
      }
    },
    {
      "cell_type": "markdown",
      "source": [
        "WE DETECTED BY USING NEURAL NETWORK USING HAND WRITTING  AND WE FOUND SEVERAL NUMERIC DIGITS IN WHICH THEY COME FROM A WIDE DATA."
      ],
      "metadata": {
        "id": "xMyUeIZsKaXA"
      }
    },
    {
      "cell_type": "markdown",
      "source": [
        ""
      ],
      "metadata": {
        "id": "T0P5NnwzLuhw"
      }
    }
  ]
}