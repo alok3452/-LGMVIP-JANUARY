{
  "nbformat": 4,
  "nbformat_minor": 0,
  "metadata": {
    "colab": {
      "name": "Untitled15stock market.ipynb",
      "provenance": [],
      "authorship_tag": "ABX9TyN7ATRARmgPRxNImabhMmjK",
      "include_colab_link": true
    },
    "kernelspec": {
      "name": "python3",
      "display_name": "Python 3"
    },
    "language_info": {
      "name": "python"
    }
  },
  "cells": [
    {
      "cell_type": "markdown",
      "metadata": {
        "id": "view-in-github",
        "colab_type": "text"
      },
      "source": [
        "<a href=\"https://colab.research.google.com/github/alok3452/-LGMVIP-JANUARY/blob/main/Untitled15stock_market.ipynb\" target=\"_parent\"><img src=\"https://colab.research.google.com/assets/colab-badge.svg\" alt=\"Open In Colab\"/></a>"
      ]
    },
    {
      "cell_type": "markdown",
      "source": [
        "LetsGrowMoreVIP - Data Science Intern - JANUARY 2022"
      ],
      "metadata": {
        "id": "ELD5QLY1-Jn-"
      }
    },
    {
      "cell_type": "markdown",
      "source": [
        " Topic Name : Stock Market Prediction And Forecasting Using Stacked LSTM"
      ],
      "metadata": {
        "id": "Rg5flwu6BVVF"
      }
    },
    {
      "cell_type": "markdown",
      "source": [
        "What is LSTM ?\n",
        "  Long short-term memory (LSTM) is an artificial recurrent neural network (RNN)  architecture[1] used in the field of deep learning. Unlike standard feedforward neural networks, LSTM has feedback connections. It can process not only single data points (such as images), but also entire sequences of data (such as speech or video). For example, LSTM is applicable to tasks such as unsegmented, connected handwriting recognition,[2] speech recognition[3][4] and anomaly detection in network traffic or IDSs (intrusion detection systems)."
      ],
      "metadata": {
        "id": "Scqn3pCHB3Mt"
      }
    },
    {
      "cell_type": "markdown",
      "source": [
        " Importing libraries"
      ],
      "metadata": {
        "id": "hj--Tna_ln2U"
      }
    },
    {
      "cell_type": "code",
      "execution_count": null,
      "metadata": {
        "id": "jOAYkO9Zui24"
      },
      "outputs": [],
      "source": [
        "import numpy as np\n",
        "import pandas as pd \n",
        "import tensorflow as tf\n",
        "from sklearn.preprocessing import MinMaxScaler \n",
        "from keras.models import Sequential \n",
        "from keras.layers import Dense, LSTM \n",
        "import math \n",
        "import seaborn as sb \n",
        "import matplotlib.pyplot as plt\n",
        "from sklearn.metrics import mean_squared_error"
      ]
    },
    {
      "cell_type": "markdown",
      "source": [
        "   Reading the data from source"
      ],
      "metadata": {
        "id": "72wR762rl0F2"
      }
    },
    {
      "cell_type": "code",
      "source": [
        "data = pd.read_csv('https://raw.githubusercontent.com/mwitiderrick/stockprice/master/NSE-TATAGLOBAL.csv')\n",
        "data.head()"
      ],
      "metadata": {
        "colab": {
          "base_uri": "https://localhost:8080/",
          "height": 206
        },
        "id": "0idV6rcPvm-Y",
        "outputId": "db6ee0af-e7b8-41bf-9e08-22691b7eeac0"
      },
      "execution_count": null,
      "outputs": [
        {
          "output_type": "execute_result",
          "data": {
            "text/html": [
              "\n",
              "  <div id=\"df-e5688c16-32ed-4221-97ae-5e36bc28ac7e\">\n",
              "    <div class=\"colab-df-container\">\n",
              "      <div>\n",
              "<style scoped>\n",
              "    .dataframe tbody tr th:only-of-type {\n",
              "        vertical-align: middle;\n",
              "    }\n",
              "\n",
              "    .dataframe tbody tr th {\n",
              "        vertical-align: top;\n",
              "    }\n",
              "\n",
              "    .dataframe thead th {\n",
              "        text-align: right;\n",
              "    }\n",
              "</style>\n",
              "<table border=\"1\" class=\"dataframe\">\n",
              "  <thead>\n",
              "    <tr style=\"text-align: right;\">\n",
              "      <th></th>\n",
              "      <th>Date</th>\n",
              "      <th>Open</th>\n",
              "      <th>High</th>\n",
              "      <th>Low</th>\n",
              "      <th>Last</th>\n",
              "      <th>Close</th>\n",
              "      <th>Total Trade Quantity</th>\n",
              "      <th>Turnover (Lacs)</th>\n",
              "    </tr>\n",
              "  </thead>\n",
              "  <tbody>\n",
              "    <tr>\n",
              "      <th>0</th>\n",
              "      <td>2018-09-28</td>\n",
              "      <td>234.05</td>\n",
              "      <td>235.95</td>\n",
              "      <td>230.20</td>\n",
              "      <td>233.50</td>\n",
              "      <td>233.75</td>\n",
              "      <td>3069914</td>\n",
              "      <td>7162.35</td>\n",
              "    </tr>\n",
              "    <tr>\n",
              "      <th>1</th>\n",
              "      <td>2018-09-27</td>\n",
              "      <td>234.55</td>\n",
              "      <td>236.80</td>\n",
              "      <td>231.10</td>\n",
              "      <td>233.80</td>\n",
              "      <td>233.25</td>\n",
              "      <td>5082859</td>\n",
              "      <td>11859.95</td>\n",
              "    </tr>\n",
              "    <tr>\n",
              "      <th>2</th>\n",
              "      <td>2018-09-26</td>\n",
              "      <td>240.00</td>\n",
              "      <td>240.00</td>\n",
              "      <td>232.50</td>\n",
              "      <td>235.00</td>\n",
              "      <td>234.25</td>\n",
              "      <td>2240909</td>\n",
              "      <td>5248.60</td>\n",
              "    </tr>\n",
              "    <tr>\n",
              "      <th>3</th>\n",
              "      <td>2018-09-25</td>\n",
              "      <td>233.30</td>\n",
              "      <td>236.75</td>\n",
              "      <td>232.00</td>\n",
              "      <td>236.25</td>\n",
              "      <td>236.10</td>\n",
              "      <td>2349368</td>\n",
              "      <td>5503.90</td>\n",
              "    </tr>\n",
              "    <tr>\n",
              "      <th>4</th>\n",
              "      <td>2018-09-24</td>\n",
              "      <td>233.55</td>\n",
              "      <td>239.20</td>\n",
              "      <td>230.75</td>\n",
              "      <td>234.00</td>\n",
              "      <td>233.30</td>\n",
              "      <td>3423509</td>\n",
              "      <td>7999.55</td>\n",
              "    </tr>\n",
              "  </tbody>\n",
              "</table>\n",
              "</div>\n",
              "      <button class=\"colab-df-convert\" onclick=\"convertToInteractive('df-e5688c16-32ed-4221-97ae-5e36bc28ac7e')\"\n",
              "              title=\"Convert this dataframe to an interactive table.\"\n",
              "              style=\"display:none;\">\n",
              "        \n",
              "  <svg xmlns=\"http://www.w3.org/2000/svg\" height=\"24px\"viewBox=\"0 0 24 24\"\n",
              "       width=\"24px\">\n",
              "    <path d=\"M0 0h24v24H0V0z\" fill=\"none\"/>\n",
              "    <path d=\"M18.56 5.44l.94 2.06.94-2.06 2.06-.94-2.06-.94-.94-2.06-.94 2.06-2.06.94zm-11 1L8.5 8.5l.94-2.06 2.06-.94-2.06-.94L8.5 2.5l-.94 2.06-2.06.94zm10 10l.94 2.06.94-2.06 2.06-.94-2.06-.94-.94-2.06-.94 2.06-2.06.94z\"/><path d=\"M17.41 7.96l-1.37-1.37c-.4-.4-.92-.59-1.43-.59-.52 0-1.04.2-1.43.59L10.3 9.45l-7.72 7.72c-.78.78-.78 2.05 0 2.83L4 21.41c.39.39.9.59 1.41.59.51 0 1.02-.2 1.41-.59l7.78-7.78 2.81-2.81c.8-.78.8-2.07 0-2.86zM5.41 20L4 18.59l7.72-7.72 1.47 1.35L5.41 20z\"/>\n",
              "  </svg>\n",
              "      </button>\n",
              "      \n",
              "  <style>\n",
              "    .colab-df-container {\n",
              "      display:flex;\n",
              "      flex-wrap:wrap;\n",
              "      gap: 12px;\n",
              "    }\n",
              "\n",
              "    .colab-df-convert {\n",
              "      background-color: #E8F0FE;\n",
              "      border: none;\n",
              "      border-radius: 50%;\n",
              "      cursor: pointer;\n",
              "      display: none;\n",
              "      fill: #1967D2;\n",
              "      height: 32px;\n",
              "      padding: 0 0 0 0;\n",
              "      width: 32px;\n",
              "    }\n",
              "\n",
              "    .colab-df-convert:hover {\n",
              "      background-color: #E2EBFA;\n",
              "      box-shadow: 0px 1px 2px rgba(60, 64, 67, 0.3), 0px 1px 3px 1px rgba(60, 64, 67, 0.15);\n",
              "      fill: #174EA6;\n",
              "    }\n",
              "\n",
              "    [theme=dark] .colab-df-convert {\n",
              "      background-color: #3B4455;\n",
              "      fill: #D2E3FC;\n",
              "    }\n",
              "\n",
              "    [theme=dark] .colab-df-convert:hover {\n",
              "      background-color: #434B5C;\n",
              "      box-shadow: 0px 1px 3px 1px rgba(0, 0, 0, 0.15);\n",
              "      filter: drop-shadow(0px 1px 2px rgba(0, 0, 0, 0.3));\n",
              "      fill: #FFFFFF;\n",
              "    }\n",
              "  </style>\n",
              "\n",
              "      <script>\n",
              "        const buttonEl =\n",
              "          document.querySelector('#df-e5688c16-32ed-4221-97ae-5e36bc28ac7e button.colab-df-convert');\n",
              "        buttonEl.style.display =\n",
              "          google.colab.kernel.accessAllowed ? 'block' : 'none';\n",
              "\n",
              "        async function convertToInteractive(key) {\n",
              "          const element = document.querySelector('#df-e5688c16-32ed-4221-97ae-5e36bc28ac7e');\n",
              "          const dataTable =\n",
              "            await google.colab.kernel.invokeFunction('convertToInteractive',\n",
              "                                                     [key], {});\n",
              "          if (!dataTable) return;\n",
              "\n",
              "          const docLinkHtml = 'Like what you see? Visit the ' +\n",
              "            '<a target=\"_blank\" href=https://colab.research.google.com/notebooks/data_table.ipynb>data table notebook</a>'\n",
              "            + ' to learn more about interactive tables.';\n",
              "          element.innerHTML = '';\n",
              "          dataTable['output_type'] = 'display_data';\n",
              "          await google.colab.output.renderOutput(dataTable, element);\n",
              "          const docLink = document.createElement('div');\n",
              "          docLink.innerHTML = docLinkHtml;\n",
              "          element.appendChild(docLink);\n",
              "        }\n",
              "      </script>\n",
              "    </div>\n",
              "  </div>\n",
              "  "
            ],
            "text/plain": [
              "         Date    Open    High  ...   Close  Total Trade Quantity  Turnover (Lacs)\n",
              "0  2018-09-28  234.05  235.95  ...  233.75               3069914          7162.35\n",
              "1  2018-09-27  234.55  236.80  ...  233.25               5082859         11859.95\n",
              "2  2018-09-26  240.00  240.00  ...  234.25               2240909          5248.60\n",
              "3  2018-09-25  233.30  236.75  ...  236.10               2349368          5503.90\n",
              "4  2018-09-24  233.55  239.20  ...  233.30               3423509          7999.55\n",
              "\n",
              "[5 rows x 8 columns]"
            ]
          },
          "metadata": {},
          "execution_count": 2
        }
      ]
    },
    {
      "cell_type": "markdown",
      "source": [
        "plotting the data for closing price of tata stock\n"
      ],
      "metadata": {
        "id": "Td751xXemqJd"
      }
    },
    {
      "cell_type": "code",
      "source": [
        "plt.figure(figsize = (10,4))\n",
        "plt.title('Tata Stocks Closing Price', color='Green')\n",
        "plt.plot(data['Close'], color='Red')\n",
        "plt.xlabel('Date',fontsize=20, color='Green')\n",
        "plt.ylabel('Close',fontsize=20, color='Green')"
      ],
      "metadata": {
        "colab": {
          "base_uri": "https://localhost:8080/",
          "height": 322
        },
        "id": "c5dBvDO4vzpp",
        "outputId": "2ea69de7-6cde-4ae5-d9f3-69bf212fa503"
      },
      "execution_count": null,
      "outputs": [
        {
          "output_type": "execute_result",
          "data": {
            "text/plain": [
              "Text(0, 0.5, 'Close')"
            ]
          },
          "metadata": {},
          "execution_count": 3
        },
        {
          "output_type": "display_data",
          "data": {
            "image/png": "[encoded data removed]",
            "text/plain": [
              "<Figure size 720x288 with 1 Axes>"
            ]
          },
          "metadata": {
            "needs_background": "light"
          }
        }
      ]
    },
    {
      "cell_type": "markdown",
      "source": [
        "Now, we store the target attribute in the 'Close' Column."
      ],
      "metadata": {
        "id": "9fm1uf7pnvt_"
      }
    },
    {
      "cell_type": "code",
      "source": [
        "data_close = data.reset_index()['Close']\n",
        "data_close.head()"
      ],
      "metadata": {
        "colab": {
          "base_uri": "https://localhost:8080/"
        },
        "id": "sYnd_0b4v3jx",
        "outputId": "83a2e968-6917-4290-911d-09881898eb8d"
      },
      "execution_count": null,
      "outputs": [
        {
          "output_type": "execute_result",
          "data": {
            "text/plain": [
              "0    233.75\n",
              "1    233.25\n",
              "2    234.25\n",
              "3    236.10\n",
              "4    233.30\n",
              "Name: Close, dtype: float64"
            ]
          },
          "metadata": {},
          "execution_count": 4
        }
      ]
    },
    {
      "cell_type": "markdown",
      "source": [
        "From the original dataset, we can tell that each of our target value are in close proximity to one another. So, we will use MinMaxScaler to scale down all the target variables in the range of (0, 1) for the ease of computation."
      ],
      "metadata": {
        "id": "IxiDzBsRn2cT"
      }
    },
    {
      "cell_type": "code",
      "source": [
        "scaler = MinMaxScaler(feature_range = (0, 1))\n",
        "data_close = scaler.fit_transform(np.array(data_close).reshape(-1, 1))\n",
        "data_close"
      ],
      "metadata": {
        "colab": {
          "base_uri": "https://localhost:8080/"
        },
        "id": "DTUibf54v7Oa",
        "outputId": "fd370233-d8d4-47cd-8095-a2eb548a134e"
      },
      "execution_count": null,
      "outputs": [
        {
          "output_type": "execute_result",
          "data": {
            "text/plain": [
              "array([[0.62418301],\n",
              "       [0.62214052],\n",
              "       [0.62622549],\n",
              "       ...,\n",
              "       [0.1621732 ],\n",
              "       [0.16319444],\n",
              "       [0.16584967]])"
            ]
          },
          "metadata": {},
          "execution_count": 5
        }
      ]
    },
    {
      "cell_type": "markdown",
      "source": [
        "Now, we split our data into Training data (85%) and Testing data (15%)"
      ],
      "metadata": {
        "id": "sSY9Y--Jn-0L"
      }
    },
    {
      "cell_type": "code",
      "source": [
        "train_size = int(len(data_close) * 0.85)\n",
        "test_size = len(data_close) - train_size\n",
        "train_data, test_data = data_close[0 : train_size, :], data_close[train_size : len(data_close), : 1]"
      ],
      "metadata": {
        "id": "mUSyZ19gv-wK"
      },
      "execution_count": null,
      "outputs": []
    },
    {
      "cell_type": "code",
      "source": [
        "train_size, test_size"
      ],
      "metadata": {
        "colab": {
          "base_uri": "https://localhost:8080/"
        },
        "id": "j8QB1SjtwCdj",
        "outputId": "179f9b59-a535-4d8a-a57a-9f5831660102"
      },
      "execution_count": null,
      "outputs": [
        {
          "output_type": "execute_result",
          "data": {
            "text/plain": [
              "(1729, 306)"
            ]
          },
          "metadata": {},
          "execution_count": 7
        }
      ]
    },
    {
      "cell_type": "code",
      "source": [
        "train_data"
      ],
      "metadata": {
        "colab": {
          "base_uri": "https://localhost:8080/"
        },
        "id": "45Q26YRbwGo5",
        "outputId": "55d36759-afb8-4168-e5c3-77a85079b2d5"
      },
      "execution_count": null,
      "outputs": [
        {
          "output_type": "execute_result",
          "data": {
            "text/plain": [
              "array([[0.62418301],\n",
              "       [0.62214052],\n",
              "       [0.62622549],\n",
              "       ...,\n",
              "       [0.02920752],\n",
              "       [0.02328431],\n",
              "       [0.01919935]])"
            ]
          },
          "metadata": {},
          "execution_count": 8
        }
      ]
    },
    {
      "cell_type": "markdown",
      "source": [
        "Looking at our dataset, we realise that it's a Time Series Dataset"
      ],
      "metadata": {
        "id": "S2Dh0_IeoF1N"
      }
    },
    {
      "cell_type": "code",
      "source": [
        "def create_dataset(dataset, time_step = 1):\n",
        "    X_data, Y_data = [], []\n",
        "    for i in range(len(dataset) - time_step - 1):\n",
        "\t    a = dataset[i : (i + time_step), 0] \n",
        "\t    X_data.append(a)\n",
        "\t    Y_data.append(dataset[i + time_step, 0])\n",
        "    return np.array(X_data), np.array(Y_data)"
      ],
      "metadata": {
        "id": "tmvc5K3rwKQS"
      },
      "execution_count": null,
      "outputs": []
    },
    {
      "cell_type": "markdown",
      "source": [
        "Now, we fix the step size to, say, 100."
      ],
      "metadata": {
        "id": "L3dJAMsgoOG-"
      }
    },
    {
      "cell_type": "code",
      "source": [
        "time_step = 100\n",
        "X_train, Y_train = create_dataset(train_data, time_step)\n",
        "X_test, Y_test = create_dataset(test_data, time_step)"
      ],
      "metadata": {
        "id": "oBk9vTMFwPjr"
      },
      "execution_count": null,
      "outputs": []
    },
    {
      "cell_type": "code",
      "source": [
        "print(X_train.shape, Y_train.shape)\n",
        "print(X_test.shape, Y_test.shape)"
      ],
      "metadata": {
        "colab": {
          "base_uri": "https://localhost:8080/"
        },
        "id": "sUXL3qvDwT1i",
        "outputId": "3974c343-969c-48f6-ef91-9d040c71ab97"
      },
      "execution_count": null,
      "outputs": [
        {
          "output_type": "stream",
          "name": "stdout",
          "text": [
            "(1628, 100) (1628,)\n",
            "(205, 100) (205,)\n"
          ]
        }
      ]
    },
    {
      "cell_type": "code",
      "source": [
        "X_train = X_train.reshape(X_train.shape[0], X_train.shape[1] , 1)\n",
        "X_test = X_test.reshape(X_test.shape[0], X_test.shape[1] , 1)"
      ],
      "metadata": {
        "id": "JbXyLxYXwXfZ"
      },
      "execution_count": null,
      "outputs": []
    },
    {
      "cell_type": "markdown",
      "source": [
        "It's now time to create the Stacked LSTM Model"
      ],
      "metadata": {
        "id": "nhCQmL4foVmk"
      }
    },
    {
      "cell_type": "code",
      "source": [
        "lst = Sequential()\n",
        "lst.add(LSTM(50,return_sequences = True, input_shape = (100, 1)))\n",
        "lst.add(LSTM(50, return_sequences = True))\n",
        "lst.add(LSTM(50))\n",
        "lst.add(Dense(1))\n",
        "lst.compile(loss = 'mean_squared_error', optimizer='adam')"
      ],
      "metadata": {
        "id": "DFcPsOLjwbF6"
      },
      "execution_count": null,
      "outputs": []
    },
    {
      "cell_type": "code",
      "source": [
        "lst.summary()"
      ],
      "metadata": {
        "colab": {
          "base_uri": "https://localhost:8080/"
        },
        "id": "H2Qzgceewe4q",
        "outputId": "46879caf-cdee-4464-ba31-3106ae2bcb21"
      },
      "execution_count": null,
      "outputs": [
        {
          "output_type": "stream",
          "name": "stdout",
          "text": [
            "Model: \"sequential\"\n",
            "_________________________________________________________________\n",
            " Layer (type)                Output Shape              Param #   \n",
            "=================================================================\n",
            " lstm (LSTM)                 (None, 100, 50)           10400     \n",
            "                                                                 \n",
            " lstm_1 (LSTM)               (None, 100, 50)           20200     \n",
            "                                                                 \n",
            " lstm_2 (LSTM)               (None, 50)                20200     \n",
            "                                                                 \n",
            " dense (Dense)               (None, 1)                 51        \n",
            "                                                                 \n",
            "=================================================================\n",
            "Total params: 50,851\n",
            "Trainable params: 50,851\n",
            "Non-trainable params: 0\n",
            "_________________________________________________________________\n"
          ]
        }
      ]
    },
    {
      "cell_type": "code",
      "source": [
        "lst.fit(X_train, Y_train, validation_data = (X_test, Y_test), epochs = 100, batch_size = 64, verbose = 1)"
      ],
      "metadata": {
        "colab": {
          "base_uri": "https://localhost:8080/"
        },
        "id": "WKlzlTsEwi4K",
        "outputId": "3275ecde-dcaf-41aa-8596-56166599587f"
      },
      "execution_count": null,
      "outputs": [
        {
          "output_type": "stream",
          "name": "stdout",
          "text": [
            "Epoch 1/100\n",
            "26/26 [==============================] - 24s 540ms/step - loss: 0.0238 - val_loss: 0.0053\n",
            "Epoch 2/100\n",
            "26/26 [==============================] - 10s 381ms/step - loss: 0.0022 - val_loss: 4.7593e-04\n",
            "Epoch 3/100\n",
            "26/26 [==============================] - 7s 271ms/step - loss: 0.0015 - val_loss: 4.6249e-04\n",
            "Epoch 4/100\n",
            "26/26 [==============================] - 5s 192ms/step - loss: 0.0014 - val_loss: 4.4110e-04\n",
            "Epoch 5/100\n",
            "26/26 [==============================] - 5s 189ms/step - loss: 0.0012 - val_loss: 4.8213e-04\n",
            "Epoch 6/100\n",
            "26/26 [==============================] - 5s 189ms/step - loss: 0.0012 - val_loss: 3.9844e-04\n",
            "Epoch 7/100\n",
            "26/26 [==============================] - 5s 192ms/step - loss: 0.0012 - val_loss: 4.2192e-04\n",
            "Epoch 8/100\n",
            "26/26 [==============================] - 5s 192ms/step - loss: 0.0011 - val_loss: 3.7852e-04\n",
            "Epoch 9/100\n",
            "26/26 [==============================] - 8s 313ms/step - loss: 0.0011 - val_loss: 3.7337e-04\n",
            "Epoch 10/100\n",
            "26/26 [==============================] - 5s 212ms/step - loss: 9.4302e-04 - val_loss: 3.5793e-04\n",
            "Epoch 11/100\n",
            "26/26 [==============================] - 11s 441ms/step - loss: 9.0678e-04 - val_loss: 3.6473e-04\n",
            "Epoch 12/100\n",
            "26/26 [==============================] - 8s 302ms/step - loss: 8.7464e-04 - val_loss: 3.5407e-04\n",
            "Epoch 13/100\n",
            "26/26 [==============================] - 5s 192ms/step - loss: 8.1830e-04 - val_loss: 3.3341e-04\n",
            "Epoch 14/100\n",
            "26/26 [==============================] - 5s 194ms/step - loss: 7.7626e-04 - val_loss: 3.4942e-04\n",
            "Epoch 15/100\n",
            "26/26 [==============================] - 5s 196ms/step - loss: 7.4068e-04 - val_loss: 3.2374e-04\n",
            "Epoch 16/100\n",
            "26/26 [==============================] - 5s 206ms/step - loss: 7.3107e-04 - val_loss: 3.2191e-04\n",
            "Epoch 17/100\n",
            "26/26 [==============================] - 5s 191ms/step - loss: 6.8993e-04 - val_loss: 3.1313e-04\n",
            "Epoch 18/100\n",
            "26/26 [==============================] - 5s 194ms/step - loss: 6.8774e-04 - val_loss: 3.2171e-04\n",
            "Epoch 19/100\n",
            "26/26 [==============================] - 5s 191ms/step - loss: 8.1499e-04 - val_loss: 3.2808e-04\n",
            "Epoch 20/100\n",
            "26/26 [==============================] - 5s 192ms/step - loss: 7.3375e-04 - val_loss: 3.0383e-04\n",
            "Epoch 21/100\n",
            "26/26 [==============================] - 5s 195ms/step - loss: 6.5043e-04 - val_loss: 2.8509e-04\n",
            "Epoch 22/100\n",
            "26/26 [==============================] - 5s 192ms/step - loss: 5.8596e-04 - val_loss: 2.8448e-04\n",
            "Epoch 23/100\n",
            "26/26 [==============================] - 5s 190ms/step - loss: 5.5591e-04 - val_loss: 2.7101e-04\n",
            "Epoch 24/100\n",
            "26/26 [==============================] - 5s 191ms/step - loss: 6.1000e-04 - val_loss: 2.7212e-04\n",
            "Epoch 25/100\n",
            "26/26 [==============================] - 5s 192ms/step - loss: 5.5112e-04 - val_loss: 2.8333e-04\n",
            "Epoch 26/100\n",
            "26/26 [==============================] - 5s 194ms/step - loss: 5.9119e-04 - val_loss: 2.8860e-04\n",
            "Epoch 27/100\n",
            "26/26 [==============================] - 5s 194ms/step - loss: 5.7342e-04 - val_loss: 2.5665e-04\n",
            "Epoch 28/100\n",
            "26/26 [==============================] - 5s 190ms/step - loss: 5.0312e-04 - val_loss: 2.7149e-04\n",
            "Epoch 29/100\n",
            "26/26 [==============================] - 5s 193ms/step - loss: 5.1031e-04 - val_loss: 2.4404e-04\n",
            "Epoch 30/100\n",
            "26/26 [==============================] - 5s 189ms/step - loss: 5.0954e-04 - val_loss: 3.4357e-04\n",
            "Epoch 31/100\n",
            "26/26 [==============================] - 5s 202ms/step - loss: 5.8732e-04 - val_loss: 3.8284e-04\n",
            "Epoch 32/100\n",
            "26/26 [==============================] - 5s 192ms/step - loss: 5.0420e-04 - val_loss: 2.3006e-04\n",
            "Epoch 33/100\n",
            "26/26 [==============================] - 5s 190ms/step - loss: 4.7052e-04 - val_loss: 2.4955e-04\n",
            "Epoch 34/100\n",
            "26/26 [==============================] - 5s 190ms/step - loss: 4.5903e-04 - val_loss: 2.2695e-04\n",
            "Epoch 35/100\n",
            "26/26 [==============================] - 5s 191ms/step - loss: 3.8985e-04 - val_loss: 2.1543e-04\n",
            "Epoch 36/100\n",
            "26/26 [==============================] - 5s 191ms/step - loss: 4.1031e-04 - val_loss: 2.1441e-04\n",
            "Epoch 37/100\n",
            "26/26 [==============================] - 5s 191ms/step - loss: 4.1578e-04 - val_loss: 2.0902e-04\n",
            "Epoch 38/100\n",
            "26/26 [==============================] - 6s 217ms/step - loss: 3.7214e-04 - val_loss: 2.0295e-04\n",
            "Epoch 39/100\n",
            "26/26 [==============================] - 5s 194ms/step - loss: 3.5369e-04 - val_loss: 1.9891e-04\n",
            "Epoch 40/100\n",
            "26/26 [==============================] - 5s 191ms/step - loss: 3.7729e-04 - val_loss: 2.2722e-04\n",
            "Epoch 41/100\n",
            "26/26 [==============================] - 5s 193ms/step - loss: 3.3664e-04 - val_loss: 1.9080e-04\n",
            "Epoch 42/100\n",
            "26/26 [==============================] - 5s 193ms/step - loss: 3.2778e-04 - val_loss: 1.8868e-04\n",
            "Epoch 43/100\n",
            "26/26 [==============================] - 5s 192ms/step - loss: 3.2223e-04 - val_loss: 2.1732e-04\n",
            "Epoch 44/100\n",
            "26/26 [==============================] - 5s 190ms/step - loss: 3.3852e-04 - val_loss: 1.8103e-04\n",
            "Epoch 45/100\n",
            "26/26 [==============================] - 5s 189ms/step - loss: 3.3263e-04 - val_loss: 2.1045e-04\n",
            "Epoch 46/100\n",
            "26/26 [==============================] - 5s 193ms/step - loss: 4.1039e-04 - val_loss: 2.1953e-04\n",
            "Epoch 47/100\n",
            "26/26 [==============================] - 5s 192ms/step - loss: 3.8570e-04 - val_loss: 2.0358e-04\n",
            "Epoch 48/100\n",
            "26/26 [==============================] - 5s 192ms/step - loss: 3.1121e-04 - val_loss: 1.7967e-04\n",
            "Epoch 49/100\n",
            "26/26 [==============================] - 5s 193ms/step - loss: 2.8682e-04 - val_loss: 1.7383e-04\n",
            "Epoch 50/100\n",
            "26/26 [==============================] - 5s 192ms/step - loss: 2.8181e-04 - val_loss: 1.7528e-04\n",
            "Epoch 51/100\n",
            "26/26 [==============================] - 5s 201ms/step - loss: 2.8532e-04 - val_loss: 1.6824e-04\n",
            "Epoch 52/100\n",
            "26/26 [==============================] - 10s 387ms/step - loss: 3.0852e-04 - val_loss: 1.5938e-04\n",
            "Epoch 53/100\n",
            "26/26 [==============================] - 7s 286ms/step - loss: 2.6884e-04 - val_loss: 1.6451e-04\n",
            "Epoch 54/100\n",
            "26/26 [==============================] - 5s 192ms/step - loss: 2.6345e-04 - val_loss: 1.5340e-04\n",
            "Epoch 55/100\n",
            "26/26 [==============================] - 5s 192ms/step - loss: 2.7423e-04 - val_loss: 1.5324e-04\n",
            "Epoch 56/100\n",
            "26/26 [==============================] - 6s 218ms/step - loss: 2.6919e-04 - val_loss: 1.5274e-04\n",
            "Epoch 57/100\n",
            "26/26 [==============================] - 5s 192ms/step - loss: 2.9591e-04 - val_loss: 1.5435e-04\n",
            "Epoch 58/100\n",
            "26/26 [==============================] - 5s 191ms/step - loss: 3.1653e-04 - val_loss: 1.4629e-04\n",
            "Epoch 59/100\n",
            "26/26 [==============================] - 5s 191ms/step - loss: 2.3877e-04 - val_loss: 1.4502e-04\n",
            "Epoch 60/100\n",
            "26/26 [==============================] - 5s 192ms/step - loss: 2.7605e-04 - val_loss: 1.6283e-04\n",
            "Epoch 61/100\n",
            "26/26 [==============================] - 5s 192ms/step - loss: 2.6152e-04 - val_loss: 2.0835e-04\n",
            "Epoch 62/100\n",
            "26/26 [==============================] - 5s 194ms/step - loss: 2.4300e-04 - val_loss: 1.5879e-04\n",
            "Epoch 63/100\n",
            "26/26 [==============================] - 5s 191ms/step - loss: 2.3279e-04 - val_loss: 1.3611e-04\n",
            "Epoch 64/100\n",
            "26/26 [==============================] - 5s 192ms/step - loss: 2.2452e-04 - val_loss: 1.3713e-04\n",
            "Epoch 65/100\n",
            "26/26 [==============================] - 5s 193ms/step - loss: 2.2318e-04 - val_loss: 1.3044e-04\n",
            "Epoch 66/100\n",
            "26/26 [==============================] - 5s 193ms/step - loss: 2.2631e-04 - val_loss: 1.4464e-04\n",
            "Epoch 67/100\n",
            "26/26 [==============================] - 5s 191ms/step - loss: 2.3911e-04 - val_loss: 1.2699e-04\n",
            "Epoch 68/100\n",
            "26/26 [==============================] - 5s 192ms/step - loss: 2.1624e-04 - val_loss: 1.2487e-04\n",
            "Epoch 69/100\n",
            "26/26 [==============================] - 5s 191ms/step - loss: 2.1352e-04 - val_loss: 1.3818e-04\n",
            "Epoch 70/100\n",
            "26/26 [==============================] - 5s 192ms/step - loss: 2.1519e-04 - val_loss: 1.2738e-04\n",
            "Epoch 71/100\n",
            "26/26 [==============================] - 6s 230ms/step - loss: 2.2116e-04 - val_loss: 1.2689e-04\n",
            "Epoch 72/100\n",
            "26/26 [==============================] - 5s 194ms/step - loss: 2.6412e-04 - val_loss: 1.2532e-04\n",
            "Epoch 73/100\n",
            "26/26 [==============================] - 5s 193ms/step - loss: 2.0940e-04 - val_loss: 1.3671e-04\n",
            "Epoch 74/100\n",
            "26/26 [==============================] - 5s 193ms/step - loss: 3.1479e-04 - val_loss: 1.7721e-04\n",
            "Epoch 75/100\n",
            "26/26 [==============================] - 5s 193ms/step - loss: 2.3661e-04 - val_loss: 1.1737e-04\n",
            "Epoch 76/100\n",
            "26/26 [==============================] - 5s 191ms/step - loss: 2.0489e-04 - val_loss: 1.1934e-04\n",
            "Epoch 77/100\n",
            "26/26 [==============================] - 5s 191ms/step - loss: 2.1360e-04 - val_loss: 1.1384e-04\n",
            "Epoch 78/100\n",
            "26/26 [==============================] - 5s 194ms/step - loss: 2.0749e-04 - val_loss: 1.1990e-04\n",
            "Epoch 79/100\n",
            "26/26 [==============================] - 5s 193ms/step - loss: 2.0040e-04 - val_loss: 1.1826e-04\n",
            "Epoch 80/100\n",
            "26/26 [==============================] - 5s 193ms/step - loss: 2.0908e-04 - val_loss: 1.1832e-04\n",
            "Epoch 81/100\n",
            "26/26 [==============================] - 5s 194ms/step - loss: 2.1090e-04 - val_loss: 1.1118e-04\n",
            "Epoch 82/100\n",
            "26/26 [==============================] - 5s 192ms/step - loss: 1.9035e-04 - val_loss: 1.1221e-04\n",
            "Epoch 83/100\n",
            "26/26 [==============================] - 5s 195ms/step - loss: 1.9650e-04 - val_loss: 1.1181e-04\n",
            "Epoch 84/100\n",
            "26/26 [==============================] - 5s 195ms/step - loss: 1.9475e-04 - val_loss: 1.0823e-04\n",
            "Epoch 85/100\n",
            "26/26 [==============================] - 5s 192ms/step - loss: 2.5622e-04 - val_loss: 1.1614e-04\n",
            "Epoch 86/100\n",
            "26/26 [==============================] - 5s 192ms/step - loss: 2.6979e-04 - val_loss: 1.5511e-04\n",
            "Epoch 87/100\n",
            "26/26 [==============================] - 5s 192ms/step - loss: 1.9246e-04 - val_loss: 1.0575e-04\n",
            "Epoch 88/100\n",
            "26/26 [==============================] - 5s 191ms/step - loss: 2.0534e-04 - val_loss: 1.0700e-04\n",
            "Epoch 89/100\n",
            "26/26 [==============================] - 5s 190ms/step - loss: 2.0956e-04 - val_loss: 1.2111e-04\n",
            "Epoch 90/100\n",
            "26/26 [==============================] - 5s 191ms/step - loss: 2.5868e-04 - val_loss: 1.1671e-04\n",
            "Epoch 91/100\n",
            "26/26 [==============================] - 5s 190ms/step - loss: 1.9170e-04 - val_loss: 1.1312e-04\n",
            "Epoch 92/100\n",
            "26/26 [==============================] - 8s 318ms/step - loss: 1.9331e-04 - val_loss: 1.0555e-04\n",
            "Epoch 93/100\n",
            "26/26 [==============================] - 10s 381ms/step - loss: 1.9360e-04 - val_loss: 1.0186e-04\n",
            "Epoch 94/100\n",
            "26/26 [==============================] - 5s 193ms/step - loss: 2.0121e-04 - val_loss: 1.2531e-04\n",
            "Epoch 95/100\n",
            "26/26 [==============================] - 5s 193ms/step - loss: 2.0673e-04 - val_loss: 1.0255e-04\n",
            "Epoch 96/100\n",
            "26/26 [==============================] - 5s 192ms/step - loss: 1.9254e-04 - val_loss: 1.0376e-04\n",
            "Epoch 97/100\n",
            "26/26 [==============================] - 5s 192ms/step - loss: 2.0604e-04 - val_loss: 1.0125e-04\n",
            "Epoch 98/100\n",
            "26/26 [==============================] - 5s 191ms/step - loss: 2.0286e-04 - val_loss: 9.9199e-05\n",
            "Epoch 99/100\n",
            "26/26 [==============================] - 5s 191ms/step - loss: 1.8791e-04 - val_loss: 9.9651e-05\n",
            "Epoch 100/100\n",
            "26/26 [==============================] - 5s 193ms/step - loss: 1.8474e-04 - val_loss: 9.7907e-05\n"
          ]
        },
        {
          "output_type": "execute_result",
          "data": {
            "text/plain": [
              "<keras.callbacks.History at 0x7f8137b0ba90>"
            ]
          },
          "metadata": {},
          "execution_count": 15
        }
      ]
    },
    {
      "cell_type": "markdown",
      "source": [
        "Let's look at the performance of our Model."
      ],
      "metadata": {
        "id": "PH8Yqpy7oiea"
      }
    },
    {
      "cell_type": "code",
      "source": [
        "train_predict = lst.predict(X_train)\n",
        "test_predict = lst.predict(X_test)"
      ],
      "metadata": {
        "id": "4_4vpCDXzsPk"
      },
      "execution_count": null,
      "outputs": []
    },
    {
      "cell_type": "markdown",
      "source": [
        "Reversing the MinMax Scaler"
      ],
      "metadata": {
        "id": "d7T32oa4opXy"
      }
    },
    {
      "cell_type": "code",
      "source": [
        "train_predict = scaler.inverse_transform(train_predict)\n",
        "test_predict = scaler.inverse_transform(test_predict)"
      ],
      "metadata": {
        "id": "qsZVBEluzxGC"
      },
      "execution_count": null,
      "outputs": []
    },
    {
      "cell_type": "code",
      "source": [
        "math.sqrt(mean_squared_error(Y_train, train_predict))"
      ],
      "metadata": {
        "colab": {
          "base_uri": "https://localhost:8080/"
        },
        "id": "YpePUjdbz0hq",
        "outputId": "e88346e4-9739-42e8-eb01-3cd576c6253d"
      },
      "execution_count": null,
      "outputs": [
        {
          "output_type": "execute_result",
          "data": {
            "text/plain": [
              "157.42706357507032"
            ]
          },
          "metadata": {},
          "execution_count": 18
        }
      ]
    },
    {
      "cell_type": "code",
      "source": [
        "math.sqrt(mean_squared_error(Y_test,test_predict))"
      ],
      "metadata": {
        "colab": {
          "base_uri": "https://localhost:8080/"
        },
        "id": "vjujBQe5o73u",
        "outputId": "9f5a066e-1681-4b72-d11e-cf9714ae148a"
      },
      "execution_count": null,
      "outputs": [
        {
          "output_type": "execute_result",
          "data": {
            "text/plain": [
              "111.65271048063171"
            ]
          },
          "metadata": {},
          "execution_count": 24
        }
      ]
    },
    {
      "cell_type": "markdown",
      "source": [
        "Let's visualise our Predictions."
      ],
      "metadata": {
        "id": "TwsoPZOBo6Rf"
      }
    },
    {
      "cell_type": "code",
      "source": [
        "look_back = 100\n",
        "train_num_pyredict_plot = np.empty_like(data_close)\n",
        "train_num_pyredict_plot[:, :] = np.nan\n",
        "train_num_pyredict_plot[look_back : len(train_predict) + look_back, :] = train_predict\n",
        "test_predict_plot = np.empty_like(data_close)\n",
        "test_predict_plot[:, :] = np.nan\n",
        "test_predict_plot[len(train_predict) + (look_back * 2) + 1 : len(data_close) - 1, :] = test_predict\n",
        "plt.plot(scaler.inverse_transform(data_close))\n",
        "plt.plot(train_num_pyredict_plot)\n",
        "plt.plot(test_predict_plot)\n",
        "plt.show()"
      ],
      "metadata": {
        "colab": {
          "base_uri": "https://localhost:8080/",
          "height": 265
        },
        "id": "hOBbTVbSz5cU",
        "outputId": "41f285a8-5e56-4b98-bfe5-fe05ed4e204f"
      },
      "execution_count": null,
      "outputs": [
        {
          "output_type": "display_data",
          "data": {
            "image/png": "[encoded data removed]",
            "text/plain": [
              "<Figure size 432x288 with 1 Axes>"
            ]
          },
          "metadata": {
            "needs_background": "light"
          }
        }
      ]
    },
    {
      "cell_type": "markdown",
      "source": [
        "Future Prediction"
      ],
      "metadata": {
        "id": "3szTNU2TpEg2"
      }
    },
    {
      "cell_type": "code",
      "source": [
        "x_inum_pyut=test_data[307:].reshape(1, -1)\n",
        "x_inum_pyut.shape\n",
        "temp_inum_pyut = list(x_inum_pyut)\n",
        "temp_inum_pyut = temp_inum_pyut[0].tolist()\n",
        "temp_inum_pyut = list(x_inum_pyut)\n",
        "temp_inum_pyut = temp_inum_pyut[0].tolist()"
      ],
      "metadata": {
        "id": "mYliBZZhz9gC"
      },
      "execution_count": null,
      "outputs": []
    },
    {
      "cell_type": "code",
      "source": [
        "day_new = np.arange(1, 101)\n",
        "day_pred = np.arange(101, 131)"
      ],
      "metadata": {
        "id": "CbsSdBRb0BaG"
      },
      "execution_count": null,
      "outputs": []
    },
    {
      "cell_type": "code",
      "source": [
        "plt.plot(day_new, scaler.inverse_transform(data_close[1935 : ]),color='Red')"
      ],
      "metadata": {
        "colab": {
          "base_uri": "https://localhost:8080/",
          "height": 282
        },
        "id": "lW930S360FHX",
        "outputId": "b01b1b3e-2209-468d-b855-b412fb8273fe"
      },
      "execution_count": null,
      "outputs": [
        {
          "output_type": "execute_result",
          "data": {
            "text/plain": [
              "[<matplotlib.lines.Line2D at 0x7f81377443d0>]"
            ]
          },
          "metadata": {},
          "execution_count": 22
        },
        {
          "output_type": "display_data",
          "data": {
            "image/png": "[encoded data removed]",
            "text/plain": [
              "<Figure size 432x288 with 1 Axes>"
            ]
          },
          "metadata": {
            "needs_background": "light"
          }
        }
      ]
    },
    {
      "cell_type": "code",
      "source": [
        "data_merge = data_close.tolist()\n",
        "plt.plot((data_merge[1200 : ]),color='Red')"
      ],
      "metadata": {
        "colab": {
          "base_uri": "https://localhost:8080/",
          "height": 282
        },
        "id": "0jqyCinD0Jye",
        "outputId": "544f2d0c-0607-4fe4-a221-3de754c8c9ca"
      },
      "execution_count": null,
      "outputs": [
        {
          "output_type": "execute_result",
          "data": {
            "text/plain": [
              "[<matplotlib.lines.Line2D at 0x7f81376eb3d0>]"
            ]
          },
          "metadata": {},
          "execution_count": 23
        },
        {
          "output_type": "display_data",
          "data": {
            "image/png": "[encoded data removed]",
            "text/plain": [
              "<Figure size 432x288 with 1 Axes>"
            ]
          },
          "metadata": {
            "needs_background": "light"
          }
        }
      ]
    },
    {
      "cell_type": "markdown",
      "source": [
        "CONCLUSIONS \n"
      ],
      "metadata": {
        "id": "XPimeLnkpXLz"
      }
    }
  ]
}